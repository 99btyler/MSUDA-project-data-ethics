#Import the dependencies
import pandas as pd
import numpy as np
import datetime

# ORM dependencies
from sqlalchemy import create_engine, inspect, text


df = pd.read_csv("../Database/us_tornado_dataset_1950_2021.csv")
df.shape
df.info()


df['date'] = pd.to_datetime(df['date'])
df.info()


renamed_df = df.rename(columns={
                                'yr': 'year', 
                                'mo': 'month', 
                                'dy': 'day', 
                                'date': 'date', 
                                'st': 'state', 
                                'mag': 'tornado_magnitude', 
                                'inj': 'injuries', 
                                'fat': 'fatalities', 
                                'slat': 'start_latitude', 
                                'slon': 'start_longitude', 
                                'elat': 'end_latitude', 
                                'elon': 'end_longitude', 
                                'len': 'tornado_length', 
                                'wid': 'tornado_width'
                                })

renamed_df.info()


renamed_df.head()


# Find duplicate rows but keep the first occurrence
duplicates_to_remove = renamed_df[renamed_df.duplicated(keep='first')]

# Display the duplicates that will be removed
duplicates_to_remove.shape
duplicates_to_remove.info()



df_cleaned = renamed_df.drop_duplicates(keep='first')

# Display the cleaned DataFrame
df_cleaned.info()


# Write to the database
# Create the connection engine
engine = create_engine("sqlite:///../Database/us_tornado.sqlite")

# Define the batch size
batch_size = 1000 

# Write to SQL (USING con=engine)
df_cleaned.to_sql(name="us_tornado", con=engine, index=False, if_exists="append", method="multi", chunksize=batch_size)


# Open the Threads
conn = engine.connect() # Raw SQL/Pandas


# Create the inspector and connect it to the engine
inspector = inspect(engine)

# Collect the names of tables within the database
tables = inspector.get_table_names()

# Using the inspector to print the column names within the 'dow' table and its types
for table in tables:
    print(table)
    print("--------")
    columns = inspector.get_columns(table)
    for column in columns:
        print(column["name"], column["type"])

    print()


engine.dispose()



