# Import the dependencies
import pandas as pd
import numpy as np
import datetime

# Plotting
import matplotlib.pyplot as plt
import seaborn as sns

# ORM dependencies
from sqlalchemy import create_engine, inspect, text, func


# Create the connection engine
engine = create_engine("sqlite:///../Database/us_tornado.sqlite")


# Create the inspector and connect it to the engine
inspector = inspect(engine)

# Collect the names of tables within the database
tables = inspector.get_table_names()

# Using the inspector to print the column names within the 'dow' table and its types
for table in tables:
    print(table)
    print("--------")
    columns = inspector.get_columns(table)
    for column in columns:
        print(column["name"], column["type"])

    print()


conn = engine.connect() # Raw SQL/Pandas


query = text(""" 
                SELECT 
                    year,
                    sum(fatalities) AS 'Total_Fatalities'
                FROM 
                    us_tornado
                GROUP BY
                    year
                """)
df = pd.read_sql(query, con=conn)
df





# Create a bar chart
plt.bar(df['year'], df['Total_Fatalities'], color='firebrick')

# Add labels
plt.xlabel('Year')
plt.ylabel('Deaths')
plt.title('Tornado Fatalities by Year')

# Show the plot
plt.tight_layout()
# Show the plot
plt.show()



# query = text(""" 
#                 SELECT 
#                     *
#                 FROM 
#                     us_tornado
#                 """)
# data_df = pd.read_sql(query, con=conn)
# data_df


query = text("""SELECT 
   year AS Year, 
    COUNT(*) AS Tornadoes, 
    SUM(fatalities) AS Fatalities
FROM 
    us_tornado
GROUP BY 
    year
ORDER BY 
    year ASC;""")

data_df = pd.read_sql(query, con=conn)
data_df


# Create the bar chart for tornado counts
plt.figure(figsize=(12, 6))
sns.barplot(x="Year", y="Tornadoes", data=data_df, color="lightblue")
plt.title("U.S. Tornadoes Count by Year (January)", fontsize=14)
plt.xlabel("Year", fontsize=12)
plt.ylabel("Tornado Count", fontsize=12)
plt.xticks(rotation=90)
plt.tight_layout()
plt.show()

# Create the line chart for fatalities
plt.figure(figsize=(12, 6))
sns.lineplot(x="Year", y="Fatalities", data=data_df, marker="o", color="red")
plt.title("U.S. Tornado Fatalities by Year (January)", fontsize=14)
plt.xlabel("Year", fontsize=12)
plt.ylabel("Fatalities", fontsize=12)
plt.xticks(rotation=90)
plt.tight_layout()
plt.show()






data_df["Year"] = data_df["Year"].astype(str)

# Create a figure with a single subplot layout
fig, ax1 = plt.subplots(figsize=(15, 6))

# Plot the bar chart for tornado count
sns.barplot(x="Year", y="Tornadoes", data=data_df, color="lightgreen", ax=ax1, width=0.6, )
ax1.set_title("U.S. Tornadoes Count and Fatalities by Year", fontsize=18)
ax1.set_xlabel("Year", fontsize=14)
ax1.set_ylabel("Tornado Count", fontsize=14)
ax1.tick_params(axis='x', rotation=90)

# Create a second y-axis for fatalities
ax2 = ax1.twinx()
sns.lineplot(x="Year", y="Fatalities", data=data_df, marker="o", color="red", ax=ax2)
ax2.set_ylabel("Fatalities", fontsize=12)

# Adjust layout to prevent label cutoff
plt.tight_layout()

# Show the combined chart
plt.show()



query = text("""
                SELECT 
                    state, 
                    COUNT(*) AS tornado_count 
                FROM 
                    us_tornado 
                GROUP BY 
                    state 
                ORDER BY 
                    tornado_count desc
                LIMIT 20;
            """)
state_tornado_count_df = pd.read_sql(query, con=conn)
state_tornado_count_df 


# Plotting the bar chart
plt.figure(figsize=(10, 6))

# Bar plot
sns.barplot(data=state_tornado_count_df, x='state', y='tornado_count', palette='viridis')

# Customizing the chart
plt.title('Top 10 States with the Most Tornadoes', fontsize=14)
plt.xlabel('State', fontsize=12)
plt.ylabel('Tornado Count', fontsize=12)
  

# Show the plot
plt.show()


query = text("""
                SELECT 
                    year, 
                    COUNT(*) AS tornado_count 
                FROM 
                    us_tornado 
                GROUP BY 
                    year 
                ORDER BY 
                    tornado_count desc;
            """)
tornado_count_per_year_df = pd.read_sql(query, con=conn)
tornado_count_per_year_df.head(10)


query = text("""SELECT 
                    month, 
                    COUNT(*) AS tornado_count
                FROM 
                    us_tornado
                GROUP BY 
                    month
                ORDER BY 
                    tornado_count DESC;""")
month_tornadoes_df = pd.read_sql(query, con=conn)
month_tornadoes_df


plt.figure(figsize=(10, 6))

# Set colors 
colors = ['#FF6347', '#FFD700', '#32CD32', '#1E90FF', '#8A2BE2', '#FF1493', '#00CED1', 
          '#FF6347', '#FFD700', '#32CD32', '#1E90FF', '#8A2BE2'] 

# List of month names
month_names = ["Jan", "Feb", "Mar", "Apr", "May", "Jun", "Jul", "Aug", "Sep", "Oct", "Nov", "Dec"]

# Bar plot
plt.bar(month_tornadoes_df['month'], month_tornadoes_df['tornado_count'], color=colors, alpha=0.8)

# Customizing the chart
plt.title('Months of Peak Tornado Occurrence', fontsize=14)
plt.xlabel('Months', fontsize=12)
plt.ylabel('Tornado Count', fontsize=12)

# Set x-ticks to display month names
plt.xticks(month_tornadoes_df['month'], month_names)

# Show the plot
plt.tight_layout()
plt.show()





query = text("""
                SELECT 
                    year, 
                    tornado_magnitude,
                    start_latitude,
                    start_longitude,
                    state
                FROM 
                    us_tornado 
                GROUP BY 
                    year 
                ORDER BY 
                    year asc;
            """)
map_df = pd.read_sql(query, con=conn)
map_df.head(10)



query = text("""SELECT * 
                FROM 
                    us_tornado 
                ORDER BY 
                    fatalities DESC 
                LIMIT 1;
            """)
fatalities_df = pd.read_sql(query, con=conn)
fatalities_df


# Bar chart or line chart showing the number of tornadoes per year.
query = text("""SELECT 
                    year, 
                    COUNT(*) AS total_tornadoes
                FROM 
                    us_tornado
                GROUP BY 
                    year
                ORDER BY 
                    year DESC
""")
tornado_per_year_df = pd.read_sql(query, con=conn)
tornado_per_year_df


# Plotting the data
plt.figure(figsize=(10, 6))

# Line plot
sns.lineplot(data=tornado_per_year_df, x='year', y='total_tornadoes', marker='o', color='b', linewidth=2)

# Customizing the chart
plt.title('Total Tornadoes by Year (Top 10 Recent Years)', fontsize=14)
plt.xlabel('Year', fontsize=12)
plt.ylabel('Total Tornadoes', fontsize=12)
plt.grid(True)

# Show the plot
plt.show()


import seaborn as sns
import matplotlib.pyplot as plt

# Assuming you already have the tornado_per_year_df DataFrame loaded with 'year' and 'total_tornadoes'

# Set Seaborn style
sns.set(style="whitegrid", palette="muted")

# Plotting the data
plt.figure(figsize=(10, 6))

# Line plot with additional customizations
sns.lineplot(data=tornado_per_year_df, x='year', y='total_tornadoes', marker='o', color='deepskyblue', linewidth=3, markersize=7)

# Customizing the chart
plt.title('Total Tornadoes by Year (Top 10 Recent Years)', fontsize=16, fontweight='bold', color='darkblue')
plt.xlabel('Year', fontsize=14, fontweight='bold', color='darkred')
plt.ylabel('Total Tornadoes', fontsize=14, fontweight='bold', color='darkred')

# Add a grid with light style for a clean look
plt.grid(True, linestyle='--', linewidth=0.7)

# Set x-ticks to show every 5th year
xticks = tornado_per_year_df['year'][::5]  # Select every 5th year
plt.xticks(xticks, rotation=45, ha='right', fontsize=12)

# Customize the plot’s background and borders
plt.gca().set_facecolor('whitesmoke')
plt.gca().spines['top'].set_visible(False)
plt.gca().spines['right'].set_visible(False)

# Show the plot
plt.tight_layout()
plt.show()



import seaborn as sns
import matplotlib.pyplot as plt

# Assuming you already have the tornado_per_year_df DataFrame loaded with 'year' and 'total_tornadoes'

# Sort the DataFrame by 'total_tornadoes' in ascending order
tornado_per_year_df = tornado_per_year_df.sort_values(by='total_tornadoes', ascending=True)

# Set Seaborn style
sns.set(style="whitegrid", palette="muted")

# Plotting the bar chart with thinner bars (set width < 1 to make bars thinner)
plt.figure(figsize=(10, 6))

# Bar plot with additional customizations
sns.barplot(data=tornado_per_year_df, x='year', y='total_tornadoes', color='skyblue', edgecolor='black', width=0.5)

# Customizing the chart
plt.title('Total Tornadoes by Year (Top 10 Recent Years)', fontsize=16, fontweight='bold', color='darkblue')
plt.xlabel('Year', fontsize=14, fontweight='bold', color='darkred')
plt.ylabel('Total Tornadoes', fontsize=14, fontweight='bold', color='darkred')

# Add a grid for the y-axis
plt.grid(True, linestyle='--', linewidth=0.7, axis='y')

# Set x-ticks to show every 5th year
xticks = tornado_per_year_df['year'][::10]  # Select every 5th year
xtick_positions = range(len(tornado_per_year_df['year']))  # Get positions of all years

# Update x-ticks
plt.xticks(xtick_positions[::10], xticks, rotation=45, ha='right', fontsize=12)

# Customize the plot’s background and borders
plt.gca().set_facecolor('whitesmoke')
plt.gca().spines['top'].set_visible(False)
plt.gca().spines['right'].set_visible(False)

# Show the plot
plt.tight_layout()
plt.show()




import seaborn as sns
import matplotlib.pyplot as plt
import pandas as pd

# Assuming you already have the tornado_per_year_df DataFrame loaded with 'year' and 'total_tornadoes'

# Filter data for years between 1951 and 2021
tornado_per_year_df = tornado_per_year_df[(tornado_per_year_df['year'] >= 1951) & (tornado_per_year_df['year'] <= 2021)]

# Sort the DataFrame by 'year' in ascending order
tornado_per_year_df = tornado_per_year_df.sort_values(by='year', ascending=True)

# Create the plot
fig, ax1 = plt.subplots(figsize=(12, 6))

# Bar chart (Total tornadoes per year)
sns.barplot(x='year', y='total_tornadoes', data=tornado_per_year_df, ax=ax1, color='skyblue')
ax1.set_ylabel('Total Tornadoes (Bar)', color='skyblue')
ax1.tick_params(axis='y', labelcolor='skyblue')

# Create a second y-axis for the line plot
ax2 = ax1.twinx()

# Line chart (Total tornadoes per year, same data for overlaying)
sns.lineplot(x='year', y='total_tornadoes', data=tornado_per_year_df, ax=ax2, color='red', marker='o')
ax2.set_ylabel('Total Tornadoes (Line)', color='red')
ax2.tick_params(axis='y', labelcolor='red')

# Title and layout
plt.title('Total Tornadoes by Year (1951 - 2021) with Line Showing Trend', fontsize=16, fontweight='bold', color='darkblue')
fig.tight_layout()

# Display the plot
plt.show()





query = text("""SELECT 
                    month, COUNT(*) AS tornado_count
                FROM 
                    us_tornado
                WHERE 
                    year = 2021 and state = 'TX'
                GROUP BY 
                    month

            """)
tornado_count_df = pd.read_sql(query, con=conn)
tornado_count_df


# Plotting the donut chart
plt.figure(figsize=(8, 6)) 

plt.pie(tornado_count_df['tornado_count'], 
        labels=tornado_count_df['month'],  
        autopct='%1.0f%%', 
        startangle=140,  
        wedgeprops={'width': 0.3})  

# Title 
plt.title('Tornado Distribution by Month in Texas (2021)')

# Display the chart
plt.show()









conn.close()
engine.dispose



