# Import the dependencies
import pandas as pd
import numpy as np
import datetime

# Plotting
import matplotlib.pyplot as plt
import seaborn as sns

# ORM dependencies
from sqlalchemy import create_engine, inspect, text, func


# Create the connection engine
engine = create_engine("sqlite:///../database/us_tornado_dataset.sqlite")


# Create the inspector and connect it to the engine
inspector = inspect(engine)

# Collect the names of tables within the database
tables = inspector.get_table_names()

# Using the inspector to print the column names within the 'dow' table and its types
for table in tables:
    print(table)
    print("--------")
    columns = inspector.get_columns(table)
    for column in columns:
        print(column["name"], column["type"])

    print()


conn = engine.connect() # Raw SQL/Pandas


query = text(""" 
                SELECT 
                    year,
                    sum(fatalities) AS 'Total_Fatalities'
                FROM 
                    us_tornado
                GROUP BY
                    year
                """)
df = pd.read_sql(query, con=conn)
df


# Create a bar chart
plt.bar(df['year'], df['Total_Fatalities'], color='firebrick')

# Add labels
plt.xlabel('Year')
plt.ylabel('Deaths')
plt.title('Tornado Fatalities by Year')

# Show the plot
plt.tight_layout()
# Show the plot
plt.show()



# query = text(""" 
#                 SELECT 
#                     *
#                 FROM 
#                     us_tornado
#                 """)
# data_df = pd.read_sql(query, con=conn)
# data_df


query = text("""SELECT 
   year AS Year, 
    COUNT(*) AS Tornadoes, 
    SUM(fatalities) AS Fatalities
FROM 
    us_tornado
GROUP BY 
    year
ORDER BY 
    year ASC;""")

data_df = pd.read_sql(query, con=conn)
data_df


# Create the bar chart for tornado counts
plt.figure(figsize=(12, 6))
sns.barplot(x="Year", y="Tornadoes", data=data_df, color="lightblue")
plt.title("U.S. Tornadoes Count by Year (January)", fontsize=14)
plt.xlabel("Year", fontsize=12)
plt.ylabel("Tornado Count", fontsize=12)
plt.xticks(rotation=90)
plt.tight_layout()
plt.show()

# Create the line chart for fatalities
plt.figure(figsize=(12, 6))
sns.lineplot(x="Year", y="Fatalities", data=data_df, marker="o", color="red")
plt.title("U.S. Tornado Fatalities by Year (January)", fontsize=14)
plt.xlabel("Year", fontsize=12)
plt.ylabel("Fatalities", fontsize=12)
plt.xticks(rotation=90)
plt.tight_layout()
plt.show()






data_df["Year"] = data_df["Year"].astype(str)

# Create a figure with a single subplot layout
fig, ax1 = plt.subplots(figsize=(15, 6))

# Plot the bar chart for tornado count
sns.barplot(x="Year", y="Tornadoes", data=data_df, color="lightgreen", ax=ax1, width=0.6, )
ax1.set_title("U.S. Tornadoes Count and Fatalities by Year", fontsize=18)
ax1.set_xlabel("Year", fontsize=14)
ax1.set_ylabel("Tornado Count", fontsize=14)
ax1.tick_params(axis='x', rotation=90)

# Create a second y-axis for fatalities
ax2 = ax1.twinx()
sns.lineplot(x="Year", y="Fatalities", data=data_df, marker="o", color="red", ax=ax2)
ax2.set_ylabel("Fatalities", fontsize=12)

# Adjust layout to prevent label cutoff
plt.tight_layout()

# Show the combined chart
plt.show()



query = text("""
                SELECT 
                    state, 
                    COUNT(*) AS tornado_count 
                FROM 
                    us_tornado 
                GROUP BY 
                    state 
                ORDER BY 
                    tornado_count desc
                LIMIT 20;
            """)
state_tornado_count_df = pd.read_sql(query, con=conn)
state_tornado_count_df 


# Plotting the bar chart
plt.figure(figsize=(10, 6))

# Bar plot
sns.barplot(data=state_tornado_count_df, x='state', y='tornado_count', palette='viridis')

# Customizing the chart
plt.title('Top 10 States with the Most Tornadoes', fontsize=14)
plt.xlabel('State', fontsize=12)
plt.ylabel('Tornado Count', fontsize=12)
  

# Show the plot
plt.show()


print(state_tornado_count_df.head())
state_tornado_count_df['tornado_count'] = state_tornado_count_df['tornado_count'].astype(int)



query = text("""
                SELECT 
                    year, 
                    COUNT(*) AS tornado_count 
                FROM 
                    us_tornado 
                GROUP BY 
                    year 
                ORDER BY 
                    tornado_count desc;
            """)
tornado_count_per_year_df = pd.read_sql(query, con=conn)
tornado_count_per_year_df.head(10)


query = text("""SELECT 
                    month, 
                    COUNT(*) AS tornado_count
                FROM 
                    us_tornado
                GROUP BY 
                    month
                ORDER BY 
                    tornado_count DESC;""")
month_tornadoes_df = pd.read_sql(query, con=conn)
month_tornadoes_df


plt.figure(figsize=(10, 6))

# Set colors 
colors = ['#FF6347', '#FFD700', '#32CD32', '#1E90FF', '#8A2BE2', '#FF1493', '#00CED1', 
          '#FF6347', '#FFD700', '#32CD32', '#1E90FF', '#8A2BE2'] 

# List of month names
month_names = ["Jan", "Feb", "Mar", "Apr", "May", "Jun", "Jul", "Aug", "Sep", "Oct", "Nov", "Dec"]

# Bar plot
plt.bar(month_tornadoes_df['month'], month_tornadoes_df['tornado_count'], color=colors, alpha=0.8)

# Customizing the chart
plt.title('Months of Peak Tornado Occurrence', fontsize=14)
plt.xlabel('Months', fontsize=12)
plt.ylabel('Tornado Count', fontsize=12)

# Set x-ticks to display month names
plt.xticks(month_tornadoes_df['month'], month_names)

# Show the plot
plt.tight_layout()
plt.show()





query = text("""
                SELECT 
                    year, 
                    tornado_magnitude,
                    start_latitude,
                    start_longitude,
                    state
                FROM 
                    us_tornado 
                GROUP BY 
                    year 
                ORDER BY 
                    year asc;
            """)
map_df = pd.read_sql(query, con=conn)
map_df.head(10)



query = text("""SELECT * 
                FROM 
                    us_tornado 
                ORDER BY 
                    fatalities DESC 
                LIMIT 1;
            """)
fatalities_df = pd.read_sql(query, con=conn)
fatalities_df


# Bar chart or line chart showing the number of tornadoes per year.
query = text("""SELECT 
                    year, 
                    COUNT(*) AS total_tornadoes
                FROM 
                    us_tornado
                GROUP BY 
                    year
                ORDER BY 
                    year DESC
""")
tornado_per_year_df = pd.read_sql(query, con=conn)
tornado_per_year_df


# Plotting the data
plt.figure(figsize=(10, 6))

# Line plot
sns.lineplot(data=tornado_per_year_df, x='year', y='total_tornadoes', marker='o', color='b', linewidth=2)

# Customizing the chart
plt.title('Total Tornadoes by Year (Top 10 Recent Years)', fontsize=14)
plt.xlabel('Year', fontsize=12)
plt.ylabel('Total Tornadoes', fontsize=12)
plt.grid(True)

# Show the plot
plt.show()


query = text("""SELECT 
                    tornado_magnitude, COUNT(tornado_magnitude) AS "Magnitude Count"
                FROM 
                    us_tornado
                GROUP BY 
                    tornado_magnitude

            """)
magnitude_count_df = pd.read_sql(query, con=conn)
magnitude_count_df


# Plotting the donut chart
plt.figure(figsize=(8, 6)) 

plt.pie(magnitude_count_df['Magnitude Count'], 
        labels=magnitude_count_df['tornado_magnitude'],  
        autopct='%1.0f%%', 
        startangle=140,  
        wedgeprops={'width': 0.3})  

# Title 
plt.title('Magnitude Distribution in US 1950-2021')

# Display the chart
plt.show()


conn.close()
engine.dispose



