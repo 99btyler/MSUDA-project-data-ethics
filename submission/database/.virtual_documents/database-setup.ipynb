


import pandas as pd
import sqlite3





data_unclean = pd.read_csv("data/data-unclean.csv")
data_unclean.head()





old_total = len(data_unclean)
print(f"old_total: {old_total}")

num_of_duplicates = data_unclean.duplicated().sum()
print(f"num_of_duplicates: {num_of_duplicates}")

# removing duplicates
data_unclean = data_unclean.drop_duplicates()

new_total = len(data_unclean)
print(f"new_total: {new_total}")





data_unclean = data_unclean.rename(columns={
    "yr": "year",
    "mo": "month",
    "dy": "day",
    "st": "state",
    "mag": "tornado_magnitude",
    "inj": "injuries",
    "fat": "fatalities",
    "slat": "start_latitude",
    "slon": "start_longitude",
    "elat": "end_latitude",
    "elon": "end_longitude",
    "len": "tornado_length",
    "wid": "tornado_width"
})
print(data_unclean.shape)
data_unclean.head()





data_unclean.info()


data_unclean["date"] = pd.to_datetime(data_unclean["date"])


data_unclean.info()





data_unclean.to_csv("data/data.csv", index=False)





data = pd.read_csv("data/data.csv")
print(data.shape)
data.head()





# connect
with sqlite3.connect("data/database.db") as connection:
    cursor = connection.cursor()

    # load
    data.to_sql("tornadoes", connection, if_exists="replace", index=False)

    # verify
    cursor.execute("SELECT * FROM tornadoes LIMIT 5")
    rows = cursor.fetchall()
    for row in rows:
        print(row)
