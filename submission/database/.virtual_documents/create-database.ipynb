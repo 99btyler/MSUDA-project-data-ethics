import pandas as pd
from sqlalchemy import create_engine, inspect # ORM





df = pd.read_csv("data/unclean_us_tornado_dataset.csv")

print(df.shape)
df.info()


# Change type of date
df['date'] = pd.to_datetime(df['date'])

df.info()


# Rename columns
df = df.rename(columns={
    'yr': 'year',
    'mo': 'month',
    'dy': 'day',
    'date': 'date',
    'st': 'state',
    'mag': 'tornado_magnitude',
    'inj': 'injuries',
    'fat': 'fatalities',
    'slat': 'start_latitude',
    'slon': 'start_longitude',
    'elat': 'end_latitude',
    'elon': 'end_longitude',
    'len': 'tornado_length',
    'wid': 'tornado_width'
})

df.info()


df.head()


# Remove duplicates
duplicates_to_remove = df[df.duplicated(keep='first')]

print(duplicates_to_remove.shape)
duplicates_to_remove.info()


df = df.drop_duplicates(keep='first')

df.info()


# Remove magnitudes that are -9
magnitudes_to_remove = df[df['tornado_magnitude'] == -9]

print(magnitudes_to_remove.shape)
magnitudes_to_remove.info()


df = df.drop(magnitudes_to_remove.index)

df.info()


# Save the clean data
df.to_csv("data/us_tornado_dataset.csv", index=False)





engine = create_engine("sqlite:///../database/us_tornado_dataset.sqlite")

# load the data
df.to_sql(name="us_tornado", con=engine, index=False, if_exists="replace")


inspector = inspect(engine)

# verify the data
tables = inspector.get_table_names()
for table in tables:
    print(table)
    print("--------")
    columns = inspector.get_columns(table)
    for column in columns:
        print(column['name'], column['type'])



