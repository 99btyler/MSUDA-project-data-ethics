{
 "cells": [
  {
   "cell_type": "code",
   "execution_count": 1,
   "id": "91bd66c1-46d7-4410-828b-48698d9fa585",
   "metadata": {},
   "outputs": [],
   "source": [
    "import pandas as pd\n",
    "from sqlalchemy import create_engine, inspect # ORM"
   ]
  },
  {
   "cell_type": "markdown",
   "id": "2ef57e8a",
   "metadata": {},
   "source": [
    "## Clean the data"
   ]
  },
  {
   "cell_type": "code",
   "execution_count": 2,
   "id": "68703cae-4a84-4c83-a40c-ad43773fb2be",
   "metadata": {},
   "outputs": [
    {
     "name": "stdout",
     "output_type": "stream",
     "text": [
      "(67558, 14)\n",
      "<class 'pandas.core.frame.DataFrame'>\n",
      "RangeIndex: 67558 entries, 0 to 67557\n",
      "Data columns (total 14 columns):\n",
      " #   Column  Non-Null Count  Dtype  \n",
      "---  ------  --------------  -----  \n",
      " 0   yr      67558 non-null  int64  \n",
      " 1   mo      67558 non-null  int64  \n",
      " 2   dy      67558 non-null  int64  \n",
      " 3   date    67558 non-null  object \n",
      " 4   st      67558 non-null  object \n",
      " 5   mag     67558 non-null  int64  \n",
      " 6   inj     67558 non-null  int64  \n",
      " 7   fat     67558 non-null  int64  \n",
      " 8   slat    67558 non-null  float64\n",
      " 9   slon    67558 non-null  float64\n",
      " 10  elat    67558 non-null  float64\n",
      " 11  elon    67558 non-null  float64\n",
      " 12  len     67558 non-null  float64\n",
      " 13  wid     67558 non-null  int64  \n",
      "dtypes: float64(5), int64(7), object(2)\n",
      "memory usage: 7.2+ MB\n"
     ]
    }
   ],
   "source": [
    "df = pd.read_csv(\"data/us_tornado_dataset_1950_2021.csv\")\n",
    "\n",
    "print(df.shape)\n",
    "df.info()"
   ]
  },
  {
   "cell_type": "code",
   "execution_count": 3,
   "id": "2cbdbff3-f3b9-494a-90ab-1982d74b84dd",
   "metadata": {},
   "outputs": [
    {
     "name": "stdout",
     "output_type": "stream",
     "text": [
      "<class 'pandas.core.frame.DataFrame'>\n",
      "RangeIndex: 67558 entries, 0 to 67557\n",
      "Data columns (total 14 columns):\n",
      " #   Column  Non-Null Count  Dtype         \n",
      "---  ------  --------------  -----         \n",
      " 0   yr      67558 non-null  int64         \n",
      " 1   mo      67558 non-null  int64         \n",
      " 2   dy      67558 non-null  int64         \n",
      " 3   date    67558 non-null  datetime64[ns]\n",
      " 4   st      67558 non-null  object        \n",
      " 5   mag     67558 non-null  int64         \n",
      " 6   inj     67558 non-null  int64         \n",
      " 7   fat     67558 non-null  int64         \n",
      " 8   slat    67558 non-null  float64       \n",
      " 9   slon    67558 non-null  float64       \n",
      " 10  elat    67558 non-null  float64       \n",
      " 11  elon    67558 non-null  float64       \n",
      " 12  len     67558 non-null  float64       \n",
      " 13  wid     67558 non-null  int64         \n",
      "dtypes: datetime64[ns](1), float64(5), int64(7), object(1)\n",
      "memory usage: 7.2+ MB\n"
     ]
    }
   ],
   "source": [
    "# Change type of date\n",
    "df['date'] = pd.to_datetime(df['date'])\n",
    "\n",
    "df.info()"
   ]
  },
  {
   "cell_type": "code",
   "execution_count": 4,
   "id": "f512ac24-50a3-4d96-af9c-e7483127e1a9",
   "metadata": {},
   "outputs": [
    {
     "name": "stdout",
     "output_type": "stream",
     "text": [
      "<class 'pandas.core.frame.DataFrame'>\n",
      "RangeIndex: 67558 entries, 0 to 67557\n",
      "Data columns (total 14 columns):\n",
      " #   Column             Non-Null Count  Dtype         \n",
      "---  ------             --------------  -----         \n",
      " 0   year               67558 non-null  int64         \n",
      " 1   month              67558 non-null  int64         \n",
      " 2   day                67558 non-null  int64         \n",
      " 3   date               67558 non-null  datetime64[ns]\n",
      " 4   state              67558 non-null  object        \n",
      " 5   tornado_magnitude  67558 non-null  int64         \n",
      " 6   injuries           67558 non-null  int64         \n",
      " 7   fatalities         67558 non-null  int64         \n",
      " 8   start_latitude     67558 non-null  float64       \n",
      " 9   start_longitude    67558 non-null  float64       \n",
      " 10  end_latitude       67558 non-null  float64       \n",
      " 11  end_longitude      67558 non-null  float64       \n",
      " 12  tornado_length     67558 non-null  float64       \n",
      " 13  tornado_width      67558 non-null  int64         \n",
      "dtypes: datetime64[ns](1), float64(5), int64(7), object(1)\n",
      "memory usage: 7.2+ MB\n"
     ]
    }
   ],
   "source": [
    "# Rename columns\n",
    "df = df.rename(columns={\n",
    "    'yr': 'year',\n",
    "    'mo': 'month',\n",
    "    'dy': 'day',\n",
    "    'date': 'date',\n",
    "    'st': 'state',\n",
    "    'mag': 'tornado_magnitude',\n",
    "    'inj': 'injuries',\n",
    "    'fat': 'fatalities',\n",
    "    'slat': 'start_latitude',\n",
    "    'slon': 'start_longitude',\n",
    "    'elat': 'end_latitude',\n",
    "    'elon': 'end_longitude',\n",
    "    'len': 'tornado_length',\n",
    "    'wid': 'tornado_width'\n",
    "})\n",
    "\n",
    "df.info()"
   ]
  },
  {
   "cell_type": "code",
   "execution_count": 5,
   "id": "d8df2010-3297-43ba-bfd9-6c8becdca214",
   "metadata": {},
   "outputs": [
    {
     "data": {
      "text/html": [
       "<div>\n",
       "<style scoped>\n",
       "    .dataframe tbody tr th:only-of-type {\n",
       "        vertical-align: middle;\n",
       "    }\n",
       "\n",
       "    .dataframe tbody tr th {\n",
       "        vertical-align: top;\n",
       "    }\n",
       "\n",
       "    .dataframe thead th {\n",
       "        text-align: right;\n",
       "    }\n",
       "</style>\n",
       "<table border=\"1\" class=\"dataframe\">\n",
       "  <thead>\n",
       "    <tr style=\"text-align: right;\">\n",
       "      <th></th>\n",
       "      <th>year</th>\n",
       "      <th>month</th>\n",
       "      <th>day</th>\n",
       "      <th>date</th>\n",
       "      <th>state</th>\n",
       "      <th>tornado_magnitude</th>\n",
       "      <th>injuries</th>\n",
       "      <th>fatalities</th>\n",
       "      <th>start_latitude</th>\n",
       "      <th>start_longitude</th>\n",
       "      <th>end_latitude</th>\n",
       "      <th>end_longitude</th>\n",
       "      <th>tornado_length</th>\n",
       "      <th>tornado_width</th>\n",
       "    </tr>\n",
       "  </thead>\n",
       "  <tbody>\n",
       "    <tr>\n",
       "      <th>0</th>\n",
       "      <td>1950</td>\n",
       "      <td>1</td>\n",
       "      <td>3</td>\n",
       "      <td>1950-01-03</td>\n",
       "      <td>IL</td>\n",
       "      <td>3</td>\n",
       "      <td>3</td>\n",
       "      <td>0</td>\n",
       "      <td>39.10</td>\n",
       "      <td>-89.30</td>\n",
       "      <td>39.12</td>\n",
       "      <td>-89.23</td>\n",
       "      <td>3.6</td>\n",
       "      <td>130</td>\n",
       "    </tr>\n",
       "    <tr>\n",
       "      <th>1</th>\n",
       "      <td>1950</td>\n",
       "      <td>1</td>\n",
       "      <td>3</td>\n",
       "      <td>1950-01-03</td>\n",
       "      <td>MO</td>\n",
       "      <td>3</td>\n",
       "      <td>3</td>\n",
       "      <td>0</td>\n",
       "      <td>38.77</td>\n",
       "      <td>-90.22</td>\n",
       "      <td>38.83</td>\n",
       "      <td>-90.03</td>\n",
       "      <td>9.5</td>\n",
       "      <td>150</td>\n",
       "    </tr>\n",
       "    <tr>\n",
       "      <th>2</th>\n",
       "      <td>1950</td>\n",
       "      <td>1</td>\n",
       "      <td>3</td>\n",
       "      <td>1950-01-03</td>\n",
       "      <td>OH</td>\n",
       "      <td>1</td>\n",
       "      <td>1</td>\n",
       "      <td>0</td>\n",
       "      <td>40.88</td>\n",
       "      <td>-84.58</td>\n",
       "      <td>0.00</td>\n",
       "      <td>0.00</td>\n",
       "      <td>0.1</td>\n",
       "      <td>10</td>\n",
       "    </tr>\n",
       "    <tr>\n",
       "      <th>3</th>\n",
       "      <td>1950</td>\n",
       "      <td>1</td>\n",
       "      <td>13</td>\n",
       "      <td>1950-01-13</td>\n",
       "      <td>AR</td>\n",
       "      <td>3</td>\n",
       "      <td>1</td>\n",
       "      <td>1</td>\n",
       "      <td>34.40</td>\n",
       "      <td>-94.37</td>\n",
       "      <td>0.00</td>\n",
       "      <td>0.00</td>\n",
       "      <td>0.6</td>\n",
       "      <td>17</td>\n",
       "    </tr>\n",
       "    <tr>\n",
       "      <th>4</th>\n",
       "      <td>1950</td>\n",
       "      <td>1</td>\n",
       "      <td>25</td>\n",
       "      <td>1950-01-25</td>\n",
       "      <td>IL</td>\n",
       "      <td>2</td>\n",
       "      <td>0</td>\n",
       "      <td>0</td>\n",
       "      <td>41.17</td>\n",
       "      <td>-87.33</td>\n",
       "      <td>0.00</td>\n",
       "      <td>0.00</td>\n",
       "      <td>0.1</td>\n",
       "      <td>100</td>\n",
       "    </tr>\n",
       "  </tbody>\n",
       "</table>\n",
       "</div>"
      ],
      "text/plain": [
       "   year  month  day       date state  tornado_magnitude  injuries  fatalities  \\\n",
       "0  1950      1    3 1950-01-03    IL                  3         3           0   \n",
       "1  1950      1    3 1950-01-03    MO                  3         3           0   \n",
       "2  1950      1    3 1950-01-03    OH                  1         1           0   \n",
       "3  1950      1   13 1950-01-13    AR                  3         1           1   \n",
       "4  1950      1   25 1950-01-25    IL                  2         0           0   \n",
       "\n",
       "   start_latitude  start_longitude  end_latitude  end_longitude  \\\n",
       "0           39.10           -89.30         39.12         -89.23   \n",
       "1           38.77           -90.22         38.83         -90.03   \n",
       "2           40.88           -84.58          0.00           0.00   \n",
       "3           34.40           -94.37          0.00           0.00   \n",
       "4           41.17           -87.33          0.00           0.00   \n",
       "\n",
       "   tornado_length  tornado_width  \n",
       "0             3.6            130  \n",
       "1             9.5            150  \n",
       "2             0.1             10  \n",
       "3             0.6             17  \n",
       "4             0.1            100  "
      ]
     },
     "execution_count": 5,
     "metadata": {},
     "output_type": "execute_result"
    }
   ],
   "source": [
    "df.head()"
   ]
  },
  {
   "cell_type": "code",
   "execution_count": 6,
   "id": "a0c39380-1c51-4337-bbaf-5fdadeda1d5f",
   "metadata": {},
   "outputs": [
    {
     "name": "stdout",
     "output_type": "stream",
     "text": [
      "(462, 14)\n",
      "<class 'pandas.core.frame.DataFrame'>\n",
      "Index: 462 entries, 391 to 64676\n",
      "Data columns (total 14 columns):\n",
      " #   Column             Non-Null Count  Dtype         \n",
      "---  ------             --------------  -----         \n",
      " 0   year               462 non-null    int64         \n",
      " 1   month              462 non-null    int64         \n",
      " 2   day                462 non-null    int64         \n",
      " 3   date               462 non-null    datetime64[ns]\n",
      " 4   state              462 non-null    object        \n",
      " 5   tornado_magnitude  462 non-null    int64         \n",
      " 6   injuries           462 non-null    int64         \n",
      " 7   fatalities         462 non-null    int64         \n",
      " 8   start_latitude     462 non-null    float64       \n",
      " 9   start_longitude    462 non-null    float64       \n",
      " 10  end_latitude       462 non-null    float64       \n",
      " 11  end_longitude      462 non-null    float64       \n",
      " 12  tornado_length     462 non-null    float64       \n",
      " 13  tornado_width      462 non-null    int64         \n",
      "dtypes: datetime64[ns](1), float64(5), int64(7), object(1)\n",
      "memory usage: 54.1+ KB\n"
     ]
    }
   ],
   "source": [
    "# Remove duplicates\n",
    "duplicates_to_remove = df[df.duplicated(keep='first')]\n",
    "\n",
    "print(duplicates_to_remove.shape)\n",
    "duplicates_to_remove.info()"
   ]
  },
  {
   "cell_type": "code",
   "execution_count": 7,
   "id": "f6636aad",
   "metadata": {},
   "outputs": [
    {
     "name": "stdout",
     "output_type": "stream",
     "text": [
      "<class 'pandas.core.frame.DataFrame'>\n",
      "Index: 67096 entries, 0 to 67557\n",
      "Data columns (total 14 columns):\n",
      " #   Column             Non-Null Count  Dtype         \n",
      "---  ------             --------------  -----         \n",
      " 0   year               67096 non-null  int64         \n",
      " 1   month              67096 non-null  int64         \n",
      " 2   day                67096 non-null  int64         \n",
      " 3   date               67096 non-null  datetime64[ns]\n",
      " 4   state              67096 non-null  object        \n",
      " 5   tornado_magnitude  67096 non-null  int64         \n",
      " 6   injuries           67096 non-null  int64         \n",
      " 7   fatalities         67096 non-null  int64         \n",
      " 8   start_latitude     67096 non-null  float64       \n",
      " 9   start_longitude    67096 non-null  float64       \n",
      " 10  end_latitude       67096 non-null  float64       \n",
      " 11  end_longitude      67096 non-null  float64       \n",
      " 12  tornado_length     67096 non-null  float64       \n",
      " 13  tornado_width      67096 non-null  int64         \n",
      "dtypes: datetime64[ns](1), float64(5), int64(7), object(1)\n",
      "memory usage: 7.7+ MB\n"
     ]
    }
   ],
   "source": [
    "df = df.drop_duplicates(keep='first')\n",
    "\n",
    "df.info()"
   ]
  },
  {
   "cell_type": "code",
   "execution_count": 8,
   "id": "277851ae",
   "metadata": {},
   "outputs": [
    {
     "name": "stdout",
     "output_type": "stream",
     "text": [
      "(605, 14)\n",
      "<class 'pandas.core.frame.DataFrame'>\n",
      "Index: 605 entries, 60343 to 67421\n",
      "Data columns (total 14 columns):\n",
      " #   Column             Non-Null Count  Dtype         \n",
      "---  ------             --------------  -----         \n",
      " 0   year               605 non-null    int64         \n",
      " 1   month              605 non-null    int64         \n",
      " 2   day                605 non-null    int64         \n",
      " 3   date               605 non-null    datetime64[ns]\n",
      " 4   state              605 non-null    object        \n",
      " 5   tornado_magnitude  605 non-null    int64         \n",
      " 6   injuries           605 non-null    int64         \n",
      " 7   fatalities         605 non-null    int64         \n",
      " 8   start_latitude     605 non-null    float64       \n",
      " 9   start_longitude    605 non-null    float64       \n",
      " 10  end_latitude       605 non-null    float64       \n",
      " 11  end_longitude      605 non-null    float64       \n",
      " 12  tornado_length     605 non-null    float64       \n",
      " 13  tornado_width      605 non-null    int64         \n",
      "dtypes: datetime64[ns](1), float64(5), int64(7), object(1)\n",
      "memory usage: 70.9+ KB\n"
     ]
    }
   ],
   "source": [
    "# Remove magnitudes that are -9\n",
    "magnitudes_to_remove = df[df['tornado_magnitude'] == -9]\n",
    "\n",
    "print(magnitudes_to_remove.shape)\n",
    "magnitudes_to_remove.info()"
   ]
  },
  {
   "cell_type": "code",
   "execution_count": 9,
   "id": "d8dafcc3",
   "metadata": {},
   "outputs": [
    {
     "name": "stdout",
     "output_type": "stream",
     "text": [
      "<class 'pandas.core.frame.DataFrame'>\n",
      "Index: 66491 entries, 0 to 67557\n",
      "Data columns (total 14 columns):\n",
      " #   Column             Non-Null Count  Dtype         \n",
      "---  ------             --------------  -----         \n",
      " 0   year               66491 non-null  int64         \n",
      " 1   month              66491 non-null  int64         \n",
      " 2   day                66491 non-null  int64         \n",
      " 3   date               66491 non-null  datetime64[ns]\n",
      " 4   state              66491 non-null  object        \n",
      " 5   tornado_magnitude  66491 non-null  int64         \n",
      " 6   injuries           66491 non-null  int64         \n",
      " 7   fatalities         66491 non-null  int64         \n",
      " 8   start_latitude     66491 non-null  float64       \n",
      " 9   start_longitude    66491 non-null  float64       \n",
      " 10  end_latitude       66491 non-null  float64       \n",
      " 11  end_longitude      66491 non-null  float64       \n",
      " 12  tornado_length     66491 non-null  float64       \n",
      " 13  tornado_width      66491 non-null  int64         \n",
      "dtypes: datetime64[ns](1), float64(5), int64(7), object(1)\n",
      "memory usage: 7.6+ MB\n"
     ]
    }
   ],
   "source": [
    "df = df.drop(magnitudes_to_remove.index)\n",
    "\n",
    "df.info()"
   ]
  },
  {
   "cell_type": "code",
   "execution_count": 10,
   "id": "4d46c8de",
   "metadata": {},
   "outputs": [],
   "source": [
    "# Save the clean data\n",
    "df.to_csv(\"data/clean-data.csv\", index=False)"
   ]
  },
  {
   "cell_type": "markdown",
   "id": "0a323643",
   "metadata": {},
   "source": [
    "## Load the data"
   ]
  },
  {
   "cell_type": "code",
   "execution_count": 11,
   "id": "f97dc6cc",
   "metadata": {},
   "outputs": [
    {
     "data": {
      "text/plain": [
       "66491"
      ]
     },
     "execution_count": 11,
     "metadata": {},
     "output_type": "execute_result"
    }
   ],
   "source": [
    "engine = create_engine(\"sqlite:///us_tornado.sqlite\")\n",
    "\n",
    "# load the data\n",
    "df.to_sql(name=\"us_tornado\", con=engine, index=False, if_exists=\"replace\")"
   ]
  },
  {
   "cell_type": "code",
   "execution_count": 12,
   "id": "2d03b82c",
   "metadata": {},
   "outputs": [
    {
     "name": "stdout",
     "output_type": "stream",
     "text": [
      "us_tornado\n",
      "--------\n",
      "year BIGINT\n",
      "month BIGINT\n",
      "day BIGINT\n",
      "date DATETIME\n",
      "state TEXT\n",
      "tornado_magnitude BIGINT\n",
      "injuries BIGINT\n",
      "fatalities BIGINT\n",
      "start_latitude FLOAT\n",
      "start_longitude FLOAT\n",
      "end_latitude FLOAT\n",
      "end_longitude FLOAT\n",
      "tornado_length FLOAT\n",
      "tornado_width BIGINT\n"
     ]
    }
   ],
   "source": [
    "inspector = inspect(engine)\n",
    "\n",
    "# verify the data\n",
    "tables = inspector.get_table_names()\n",
    "for table in tables:\n",
    "    print(table)\n",
    "    print(\"--------\")\n",
    "    columns = inspector.get_columns(table)\n",
    "    for column in columns:\n",
    "        print(column['name'], column['type'])"
   ]
  }
 ],
 "metadata": {
  "kernelspec": {
   "display_name": "Python 3",
   "language": "python",
   "name": "python3"
  },
  "language_info": {
   "codemirror_mode": {
    "name": "ipython",
    "version": 3
   },
   "file_extension": ".py",
   "mimetype": "text/x-python",
   "name": "python",
   "nbconvert_exporter": "python",
   "pygments_lexer": "ipython3",
   "version": "3.9.6"
  }
 },
 "nbformat": 4,
 "nbformat_minor": 5
}
